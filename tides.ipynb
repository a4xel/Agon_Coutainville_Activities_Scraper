{
 "cells": [
  {
   "cell_type": "code",
   "execution_count": 1,
   "metadata": {},
   "outputs": [],
   "source": [
    "\"\"\"\"Do the necessary imports\"\"\"\n",
    "from bs4 import BeautifulSoup\n",
    "import requests\n",
    "import pandas as pd\n",
    "import os"
   ]
  },
  {
   "cell_type": "code",
   "execution_count": 51,
   "metadata": {},
   "outputs": [],
   "source": [
    "\"\"\"Scrape a first time to all the months where data about the tides can be found\"\"\"\n",
    "\n",
    "url = \"https://marine.meteoconsult.fr/meteo-marine/horaires-des-marees/pointe-d-agon-944/juillet-2022\"\n",
    "\n",
    "response=requests.get(url)\n",
    "\n",
    "soup1 = BeautifulSoup(response.content, 'html.parser')\n",
    "\n",
    "list_dates=[]\n",
    "list_years=[]\n",
    "\n",
    "for i in soup1.find_all(class_=\"month-container\"):\n",
    "    list_dates.append((i.find(class_=\"name\").text))\n",
    "    list_years.append((i.find(class_=\"year\").text))\n",
    "    \n",
    "list_dates_and_years = [m+str(n) for m,n in zip(list_dates, list_years)]\n",
    "\n",
    "month_years_final=[]\n",
    "for i in list_dates_and_years:\n",
    "    i=i.replace(\"20\", \"-20\")\n",
    "    month_years_final.append(i)\n",
    "    \n",
    "\n",
    "\n",
    "\n"
   ]
  },
  {
   "cell_type": "code",
   "execution_count": 53,
   "metadata": {},
   "outputs": [],
   "source": [
    "url = \"https://marine.meteoconsult.fr/meteo-marine/horaires-des-marees/pointe-d-agon-944\"\n",
    "\n",
    "for month in month_years_final:\n",
    "      \n",
    "    req=requests.get(url + f\"/{month}\")\n",
    "    soup = BeautifulSoup(req.content, 'html.parser')\n",
    "    \n",
    "    for i in soup.find_all()\n",
    "    \n",
    "\n",
    "    "
   ]
  },
  {
   "cell_type": "code",
   "execution_count": null,
   "metadata": {},
   "outputs": [],
   "source": [
    "soup1.find_all(class_=\"tide_container\")"
   ]
  }
 ],
 "metadata": {
  "kernelspec": {
   "display_name": "Python 3.8.13 64-bit ('shims')",
   "language": "python",
   "name": "python3"
  },
  "language_info": {
   "codemirror_mode": {
    "name": "ipython",
    "version": 3
   },
   "file_extension": ".py",
   "mimetype": "text/x-python",
   "name": "python",
   "nbconvert_exporter": "python",
   "pygments_lexer": "ipython3",
   "version": "3.8.13"
  },
  "orig_nbformat": 4,
  "vscode": {
   "interpreter": {
    "hash": "6b23a059732edb4bfbb23e8cd4fc458f3edfb684a0d6eec5d0f4069a80889721"
   }
  }
 },
 "nbformat": 4,
 "nbformat_minor": 2
}
